{
 "cells": [
  {
   "cell_type": "markdown",
   "id": "f1af7219",
   "metadata": {},
   "source": [
    "### Variable continuum - generic function"
   ]
  },
  {
   "cell_type": "markdown",
   "id": "fffd68a3",
   "metadata": {},
   "source": [
    "The final expression for the flux of the line considering a variable continuum is \n",
    "\n",
    "$$     F_l(net) = \\frac{1}{R}\\left[ A - \\left( \\frac{I_l - S_l}{I_c-S_c}\\right)\\frac{T_c}{T_l}\\frac{P}{Q'}  \\right] $$"
   ]
  },
  {
   "cell_type": "markdown",
   "id": "4bf41fd4",
   "metadata": {},
   "source": [
    "where \n",
    "\n",
    "$$  A = \\int_{\\lambda 1l}^{\\lambda 2l} F_c(\\lambda)\\phi_l(\\lambda)d\\lambda $$\n",
    "\n",
    "$$ Q' = \\frac{1}{f_c^s} 10^{0.4k_c'(X_c-X_c^s)} \\frac{\\int_{\\lambda 1c}^{\\lambda 2c} F_c^s(\\lambda)\\phi_c(\\lambda)d\\lambda}{\\int_{\\lambda 1c}^{\\lambda 2c} F_c(\\lambda)\\phi_c(\\lambda)d\\lambda} $$\n",
    "\n",
    "$$ P = \\frac{1}{f_l^s}10^{0.4k_l'(X_l-X_l^s)}\\int_{\\lambda 1l}^{\\lambda 2l} F_l^s(\\lambda)\\phi_l(\\lambda)d\\lambda $$\n",
    "\n",
    "$$  R = \\frac{1}{g\\sqrt{\\pi}}\\int_{\\lambda 1l}^{\\lambda 2l} exp\\left[-\\left(  \\frac{\\lambda - \\lambda_0}{g}\\right)^2 \\right] \\phi_l(\\lambda)d\\lambda $$"
   ]
  },
  {
   "cell_type": "code",
   "execution_count": 1,
   "id": "470ff72b",
   "metadata": {},
   "outputs": [],
   "source": [
    "# Libraries needed for v1.5\n",
    "import os.path\n",
    "import numpy as np\n",
    "from scipy import interpolate\n",
    "from scipy.optimize import curve_fit\n",
    "import matplotlib.pyplot as plt\n",
    "from scipy import integrate\n",
    "from scipy.interpolate import InterpolatedUnivariateSpline"
   ]
  },
  {
   "cell_type": "code",
   "execution_count": 2,
   "id": "6ccecd65",
   "metadata": {},
   "outputs": [],
   "source": [
    "def readfile(filename):\n",
    "    ''' Reads a file.\n",
    "    Input: Filename.\n",
    "    Returns: x, y, xmin, xmax, number of points, filename.\n",
    "    '''\n",
    "    if os.path.isfile(filename) != True:\n",
    "        print(\"File not in this directory!\")\n",
    "    else:\n",
    "        file = np.loadtxt(filename, unpack=True)\n",
    "        x = file[0]\n",
    "        y = file[1]\n",
    "        xmax = np.amax(x)\n",
    "        xmin = np.amin(x)\n",
    "        npts = len(file[0])\n",
    "        return(x, y, xmin, xmax, npts, filename)"
   ]
  },
  {
   "cell_type": "code",
   "execution_count": 3,
   "id": "d6e3e669",
   "metadata": {},
   "outputs": [],
   "source": [
    "def obsWavelength(x, vel):\n",
    "    ''' Corrects for systemic velocity.\n",
    "    Input: Rest wavelength and velocity in km/s.\n",
    "    Output: Observed wavelengh.\n",
    "    '''\n",
    "    c = 299792.458\n",
    "    z = vel / c\n",
    "    lambda_obs = x * (1 + z)\n",
    "    return lambda_obs"
   ]
  },
  {
   "cell_type": "code",
   "execution_count": 4,
   "id": "b3649a0b",
   "metadata": {},
   "outputs": [],
   "source": [
    "def interp(x, y):\n",
    "    ''' Interpolates a function fitting a spline y = spl(x).\n",
    "    Input: x, y (arrays).\n",
    "    Output: Interpolated function.\n",
    "    '''\n",
    "    f = InterpolatedUnivariateSpline(x, y)\n",
    "    return f"
   ]
  },
  {
   "cell_type": "code",
   "execution_count": 5,
   "id": "2fd822f0",
   "metadata": {},
   "outputs": [],
   "source": [
    "def integral(func, a, b):\n",
    "    ''' Method of InterpolatedUnivariateSpline to calculate the integral of the interpolated function.\n",
    "    Input: Function to be integrated and interval.\n",
    "    Output: Result of the integral.\n",
    "    '''\n",
    "    I = func.integral(a, b)\n",
    "    return I"
   ]
  },
  {
   "cell_type": "code",
   "execution_count": 7,
   "id": "bdb9a7b0",
   "metadata": {
    "scrolled": false
   },
   "outputs": [
    {
     "name": "stdout",
     "output_type": "stream",
     "text": [
      "Line filter air masses (program objects): 1.38\n",
      "Line filter air masses (standard objects): 1.5\n",
      "Air masses for the continuum filter (program): 1.34\n",
      "Air masses for the continuum filter (standard): 1.54\n",
      "mag/air mass for line: 0.14\n",
      "mag/air mass for continuum: 0.23\n",
      "Raw fluxes of the standard with sky subtracted (line): 294.3\n",
      "Raw fluxes of the standard with sky subtracted (continuum): 2565.5\n",
      "Number of lines found in the line filter range, its rest wavelengths and fractional contribution (sum=1.0): 1\n",
      "Rest wavelength (Angstroms) of each line as well as its fractional contibution (sum = 1.0): [6563, 1]\n",
      "Systemic velocity of the galaxy: 45\n",
      "Exposure times of program frames (line): 2400\n",
      "Exposure times of program frames (continuum): 600\n",
      "Sky background of the program frames in counts/pixel (line): 67.9\n",
      "Sky background of the program frames in counts/pixel (continuum): 123.8\n",
      "Line filter file: /Users/ziliotto/Documents/GitHub/calibrate_line/6568.dat\n",
      "Continuum filter file: /Users/ziliotto/Documents/GitHub/calibrate_line/6092.dat\n",
      "Standard flux file: /Users/ziliotto/Documents/GitHub/calibrate_line/f34f.dat \n",
      "\n"
     ]
    }
   ],
   "source": [
    "#if __name__ == \"__main__\": # Uncomment it in the .py final script.\n",
    "# Data input\n",
    "Xl = 1.38\n",
    "print('Line filter air masses (program objects):', Xl)\n",
    "\n",
    "Xsl = 1.50\n",
    "print('Line filter air masses (standard objects):', Xsl)\n",
    "\n",
    "Xc = 1.34\n",
    "print('Air masses for the continuum filter (program):', Xc)\n",
    "\n",
    "Xsc = 1.54\n",
    "print('Air masses for the continuum filter (standard):', Xsc)\n",
    "\n",
    "kpl = 0.14\n",
    "print('mag/air mass for line:', kpl)\n",
    "\n",
    "kpc = 0.23\n",
    "print('mag/air mass for continuum:', kpc)\n",
    "\n",
    "fsl = 294.3\n",
    "print('Raw fluxes of the standard with sky subtracted (line):', fsl)\n",
    "\n",
    "fsc = 2565.5\n",
    "print('Raw fluxes of the standard with sky subtracted (continuum):', fsc)\n",
    "\n",
    "nline = 1\n",
    "print('Number of lines found in the line filter range, its rest wavelengths and fractional contribution (sum=1.0):', nline)\n",
    "\n",
    "rfWave = [6563,1]\n",
    "print('Rest wavelength (Angstroms) of each line as well as its fractional contibution (sum = 1.0):', rfWave)\n",
    "\n",
    "vsys = 45\n",
    "print('Systemic velocity of the galaxy:', vsys)\n",
    "\n",
    "texpl = 2400\n",
    "print('Exposure times of program frames (line):', texpl)\n",
    "\n",
    "texpc = 600\n",
    "print('Exposure times of program frames (continuum):', texpc)\n",
    "\n",
    "skyl = 67.9\n",
    "print('Sky background of the program frames in counts/pixel (line):', skyl)\n",
    "\n",
    "skyc = 123.8\n",
    "print('Sky background of the program frames in counts/pixel (continuum):', skyc)\n",
    "    \n",
    "# Line file\n",
    "path = '/Users/ziliotto/Documents/GitHub/calibrate_line'\n",
    "line = readfile(os.path.join(path, '6568.dat'))\n",
    "print('Line filter file:', line[5])\n",
    "linex = line[0]\n",
    "liney = line[1]\n",
    "xlmax = line[3]\n",
    "xlmin = line[2]\n",
    "\n",
    "# Continuum file\n",
    "continuum = readfile(os.path.join(path, '6092.dat'))\n",
    "print('Continuum filter file:', continuum[5])\n",
    "xcmax = continuum[3]\n",
    "xcmin = continuum[2]\n",
    "contx = continuum[0]\n",
    "conty = continuum[1]\n",
    "\n",
    "# Standard file\n",
    "standard = readfile(os.path.join(path, 'f34f.dat'))\n",
    "print('Standard flux file:', standard[5],'\\n')\n",
    "standx = standard[0]\n",
    "standy = standard[1]\n",
    "xmin = standard[2]\n",
    "xmax = standard[3]"
   ]
  },
  {
   "cell_type": "markdown",
   "id": "db3b7cdd",
   "metadata": {},
   "source": [
    "The next step is to calculate the integrals.\n",
    "\n",
    "In the integrals, we need to know the flux of the **continuum in function of wavelength** $F_c(\\lambda)$. We can define a generic function for now, but our aim is to fit a SED:"
   ]
  },
  {
   "cell_type": "code",
   "execution_count": 8,
   "id": "51951c8d",
   "metadata": {},
   "outputs": [],
   "source": [
    "def continuum():\n",
    "    ''' Returns the flux of the continuum in function of wavelength.\n",
    "    '''\n",
    "    sed = 'We need to create code to fit a SED.'\n",
    "    return sed"
   ]
  },
  {
   "cell_type": "markdown",
   "id": "7e607060",
   "metadata": {},
   "source": [
    "For the integrals, we also need the filter transmission functions. To obtain these functions, we need to interpolate the data:"
   ]
  },
  {
   "cell_type": "code",
   "execution_count": 9,
   "id": "fafc97e9",
   "metadata": {},
   "outputs": [],
   "source": [
    "# Interpolations\n",
    "lineInterp = interp(linex,liney)\n",
    "standInterp = interp(standx,standy)\n",
    "contInterp = interp(contx,conty)"
   ]
  },
  {
   "cell_type": "markdown",
   "id": "cdeb2912",
   "metadata": {},
   "source": [
    "Just as we need the continuum in function of wavelength, we will need the **transmission in function of wavelength**."
   ]
  },
  {
   "cell_type": "markdown",
   "id": "b1153f27",
   "metadata": {},
   "source": [
    "$\\phi_l(\\lambda)$ will always be the same, since we have only one line filter. However, we need to build a interpolated transmission function $\\phi_c(\\lambda)$."
   ]
  },
  {
   "cell_type": "markdown",
   "id": "578374e1",
   "metadata": {},
   "source": [
    "Before going to the calculation of the integrals, we can visualize the data."
   ]
  },
  {
   "cell_type": "code",
   "execution_count": 10,
   "id": "389e740d",
   "metadata": {},
   "outputs": [
    {
     "data": {
      "image/png": "[encoded data removed]",
      "text/plain": [
       "<Figure size 432x288 with 2 Axes>"
      ]
     },
     "metadata": {
      "needs_background": "light"
     },
     "output_type": "display_data"
    },
    {
     "data": {
      "image/png": "[encoded data removed]",
      "text/plain": [
       "<Figure size 432x288 with 1 Axes>"
      ]
     },
     "metadata": {
      "needs_background": "light"
     },
     "output_type": "display_data"
    }
   ],
   "source": [
    "# Plotting the data and interpolations\n",
    "plt.figure()\n",
    "plt.subplot(121)\n",
    "linexNew = np.arange(xlmin,xlmax,0.1)\n",
    "lineyNew = lineInterp(linexNew)\n",
    "plt.plot(linex, liney, 'o')\n",
    "plt.plot(linexNew, lineyNew)\n",
    "plt.title('Interpolation for line filter')\n",
    "plt.ylabel('Transmission (%)')\n",
    "plt.xlabel(r'Wavelength ($\\AA$)')\n",
    "plt.subplot(122)\n",
    "contxNew = np.arange(xcmin,xcmax,0.1)\n",
    "contyNew = contInterp(contxNew)\n",
    "plt.plot(contx, conty, 'o')\n",
    "plt.plot(contxNew, contyNew)\n",
    "plt.title('Interpolation for continuum filter')\n",
    "plt.ylabel('Transmission (%)')\n",
    "plt.xlabel(r'Wavelength ($\\AA$)')\n",
    "plt.subplots_adjust(top = 0.7,bottom = 0.3,left = 0.10,hspace = 0.9,wspace = 0.5)\n",
    "plt.show()\n",
    "standxNew = np.arange(xmin,xmax,0.1)\n",
    "standyNew = standInterp(standxNew)\n",
    "plt.plot(standx, standy, 'o')\n",
    "plt.plot(standxNew, standyNew)\n",
    "plt.title('Interpolation for standard')\n",
    "plt.ylabel(r'Flux ($erg/s/cm^2/\\AA$)')\n",
    "plt.xlabel(r'Wavelength ($\\AA$)')\n",
    "plt.show()"
   ]
  },
  {
   "cell_type": "markdown",
   "id": "34908c7a",
   "metadata": {},
   "source": [
    "Let's start with the simplest integral, A:\n",
    "\n",
    "$$  A = \\int_{\\lambda 1l}^{\\lambda 2l} F_c(\\lambda)\\phi_l(\\lambda)d\\lambda $$"
   ]
  },
  {
   "cell_type": "code",
   "execution_count": 11,
   "id": "edb0df12",
   "metadata": {},
   "outputs": [],
   "source": [
    "def a(continuum, lineInterp):   # Fc, phiL\n",
    "    funcA = lambda x: continuum(x) * lineInterp(x)\n",
    "    A = integral( funcA, xlmin, xlmax )\n",
    "    return A"
   ]
  },
  {
   "cell_type": "markdown",
   "id": "ac26b93e",
   "metadata": {},
   "source": [
    "We can continue the calculation of the line flux with the Q' parameter (the superscript ' is present because it is different from the Q we were using when the continuum was constant.)\n",
    "\n",
    "$$ Q' = \\frac{1}{f_c^s} 10^{0.4k_c'(X_c-X_c^s)} \\frac{\\int_{\\lambda 1c}^{\\lambda 2c} F_c^s(\\lambda)\\phi_c(\\lambda)d\\lambda}{\\int_{\\lambda 1c}^{\\lambda 2c} F_c(\\lambda)\\phi_c(\\lambda)d\\lambda} $$"
   ]
  },
  {
   "cell_type": "code",
   "execution_count": 12,
   "id": "9019360a",
   "metadata": {},
   "outputs": [],
   "source": [
    "def q(standInterp, lineInterp, continuum):\n",
    "    funcQ1 = lambda x: standInterp(x) * contInterp(x) # phi_c (contInterp)\n",
    "    funcQ2 = lambda x: continuum(x) * contInterp(x) # phi_c\n",
    "    Q = (1 / fsc) * 10 ** ( 0.4 * kpc * ( Xc - Xsc ) ) * ( integrate.quad(funcQ1, xcmin, xcmax, epsabs=1.49e-11) / integrate.quad(funcQ2, xcmin, xcmax, epsabs=1.49e-11) )\n",
    "    return Q"
   ]
  },
  {
   "cell_type": "markdown",
   "id": "7891a2ab",
   "metadata": {},
   "source": [
    "Now, for P:\n",
    "\n",
    "$$ P = \\frac{1}{f_l^s}10^{0.4k_l'(X_l-X_l^s)}\\int_{\\lambda 1l}^{\\lambda 2l} F_l^s(\\lambda)\\phi_l(\\lambda)d\\lambda $$"
   ]
  },
  {
   "cell_type": "code",
   "execution_count": 13,
   "id": "d0f8c8b1",
   "metadata": {},
   "outputs": [],
   "source": [
    "def p(standInterp, lineInterp):\n",
    "    funcP = lambda x: standInterp(x) * lineInterp(x) # phi_l\n",
    "    P = (1 / fsl) * 10 ** ( 0.4 * kpl * ( Xl - Xsl ) ) * integral( funcP, xlmin, xlmax )"
   ]
  },
  {
   "cell_type": "markdown",
   "id": "9d7c7401",
   "metadata": {},
   "source": [
    "Finally, for R:\n",
    "\n",
    "$$  R = \\frac{1}{g\\sqrt{\\pi}}\\int_{\\lambda 1l}^{\\lambda 2l} exp\\left[-\\left(  \\frac{\\lambda - \\lambda_0}{g}\\right)^2 \\right] \\phi_l(\\lambda)d\\lambda , $$\n",
    "\n",
    "where $g = \\frac{FWHM}{2ln2}$."
   ]
  },
  {
   "cell_type": "code",
   "execution_count": 14,
   "id": "2b64bc5b",
   "metadata": {},
   "outputs": [],
   "source": [
    "def r(fwhm, vsys):\n",
    "    g = fwhm / (2 * np.sqrt(np.log(2)))\n",
    "    cte = 1. / ( np.sqrt( np.pi ) * g )\n",
    "    waveobs = obsWavelength(6563., vsys)\n",
    "    funcR = lambda x: lineInterp(x) * np.exp(-(( x - waveobs )/g )**2)\n",
    "    intR = integrate.quad(funcR, xlmin, xlmax)\n",
    "    R = intR[0] * cte\n",
    "    return R"
   ]
  },
  {
   "cell_type": "markdown",
   "id": "6f1e270d",
   "metadata": {},
   "source": [
    "With all the parameters, we can finally calculate the flux of the line:\n",
    "\n",
    "$$     F_l(net) = \\frac{1}{R}\\left[ A - \\left( \\frac{I_l - S_l}{I_c-S_c}\\right)\\frac{T_c}{T_l}\\frac{P}{Q'}  \\right] $$"
   ]
  },
  {
   "cell_type": "code",
   "execution_count": 15,
   "id": "7393980f",
   "metadata": {},
   "outputs": [],
   "source": [
    "def flnet(R,A,P,Q):\n",
    "    Fl = print('Fl =', ( 1 / R ), '* (', A, '- ( (I(line) - ', skyl,') / (I(continuum) - ', skyc, ') ) * ( ',texpc*P/(texpl*Q), ') ) ')\n",
    "    return Fl\n"
   ]
  },
  {
   "cell_type": "markdown",
   "id": "c9ea86a1",
   "metadata": {},
   "source": [
    "In the old version of the code, we considered a constant background, with the form\n",
    "\n",
    "$$ F_l(cont) = \\frac{f_c}{f_c^s}10^{0.4k_c(X_c - X_c^s)}\\frac{\\int_{\\lambda_{1c}}^{\\lambda_{2c}}\\phi_c(\\lambda)F_c^s(\\lambda)d\\lambda}{\\int_{\\lambda_{1c}}^{\\lambda_{2c}}\\phi_c(\\lambda)d\\lambda}, $$\n",
    "\n",
    "where $f_c = \\frac{Ic - Sc}{Tc}$."
   ]
  },
  {
   "cell_type": "markdown",
   "id": "7d7454cd",
   "metadata": {},
   "source": [
    "Thus, in this case, the function for the continuum is"
   ]
  },
  {
   "cell_type": "code",
   "execution_count": 16,
   "id": "e606de3f",
   "metadata": {},
   "outputs": [],
   "source": [
    "def continuum():\n",
    "    ''' Returns the flux of the continuum.\n",
    "    '''\n",
    "    funcQ1 = lambda x: standInterp(x) * contInterp(x)\n",
    "    funcQ2 = lambda x: contInterp(x)\n",
    "    fc = (1 / fsc) * 10 ** ( 0.4 * kpc * ( Xc - Xsc ) ) * ( integrate.quad(funcQ1, xcmin, xcmax)[0] / integrate.quad(funcQ2, xcmin, xcmax)[0] )\n",
    "    return fc"
   ]
  },
  {
   "cell_type": "code",
   "execution_count": 17,
   "id": "4d04b1b1",
   "metadata": {
    "scrolled": true
   },
   "outputs": [
    {
     "name": "stdout",
     "output_type": "stream",
     "text": [
      "2.948148797161293e-17\n"
     ]
    },
    {
     "name": "stderr",
     "output_type": "stream",
     "text": [
      "/var/folders/2y/gl9r9z_j2l5gh61r105__rmm0000gn/T/ipykernel_1949/4087017451.py:6: IntegrationWarning: The maximum number of subdivisions (50) has been achieved.\n",
      "  If increasing the limit yields no improvement it is advised to analyze \n",
      "  the integrand in order to determine the difficulties.  If the position of a \n",
      "  local difficulty can be determined (singularity, discontinuity) one will \n",
      "  probably gain from splitting up the interval and calling the integrator \n",
      "  on the subranges.  Perhaps a special-purpose integrator should be used.\n",
      "  fc = (1 / fsc) * 10 ** ( 0.4 * kpc * ( Xc - Xsc ) ) * ( integrate.quad(funcQ1, xcmin, xcmax)[0] / integrate.quad(funcQ2, xcmin, xcmax)[0] )\n"
     ]
    }
   ],
   "source": [
    "print(continuum())"
   ]
  },
  {
   "cell_type": "code",
   "execution_count": 18,
   "id": "1cf5c4ff",
   "metadata": {},
   "outputs": [
    {
     "name": "stderr",
     "output_type": "stream",
     "text": [
      "/var/folders/2y/gl9r9z_j2l5gh61r105__rmm0000gn/T/ipykernel_1949/4087017451.py:6: IntegrationWarning: The maximum number of subdivisions (50) has been achieved.\n",
      "  If increasing the limit yields no improvement it is advised to analyze \n",
      "  the integrand in order to determine the difficulties.  If the position of a \n",
      "  local difficulty can be determined (singularity, discontinuity) one will \n",
      "  probably gain from splitting up the interval and calling the integrator \n",
      "  on the subranges.  Perhaps a special-purpose integrator should be used.\n",
      "  fc = (1 / fsc) * 10 ** ( 0.4 * kpc * ( Xc - Xsc ) ) * ( integrate.quad(funcQ1, xcmin, xcmax)[0] / integrate.quad(funcQ2, xcmin, xcmax)[0] )\n"
     ]
    },
    {
     "data": {
      "text/plain": [
       "float"
      ]
     },
     "execution_count": 18,
     "metadata": {},
     "output_type": "execute_result"
    }
   ],
   "source": [
    "type(continuum())"
   ]
  },
  {
   "cell_type": "code",
   "execution_count": 19,
   "id": "208199b7",
   "metadata": {},
   "outputs": [
    {
     "name": "stderr",
     "output_type": "stream",
     "text": [
      "/var/folders/2y/gl9r9z_j2l5gh61r105__rmm0000gn/T/ipykernel_1949/4087017451.py:6: IntegrationWarning: The maximum number of subdivisions (50) has been achieved.\n",
      "  If increasing the limit yields no improvement it is advised to analyze \n",
      "  the integrand in order to determine the difficulties.  If the position of a \n",
      "  local difficulty can be determined (singularity, discontinuity) one will \n",
      "  probably gain from splitting up the interval and calling the integrator \n",
      "  on the subranges.  Perhaps a special-purpose integrator should be used.\n",
      "  fc = (1 / fsc) * 10 ** ( 0.4 * kpc * ( Xc - Xsc ) ) * ( integrate.quad(funcQ1, xcmin, xcmax)[0] / integrate.quad(funcQ2, xcmin, xcmax)[0] )\n"
     ]
    },
    {
     "name": "stdout",
     "output_type": "stream",
     "text": [
      "(8.786305322607113e-14, 2.1781802926938158e-14)\n"
     ]
    }
   ],
   "source": [
    "funcA = lambda x: continuum() * lineInterp(x)\n",
    "A = integrate.quad( funcA, xlmin, xlmax, epsabs=1.49e-11 )\n",
    "print(A)"
   ]
  },
  {
   "cell_type": "code",
   "execution_count": 20,
   "id": "4af97383",
   "metadata": {},
   "outputs": [
    {
     "name": "stderr",
     "output_type": "stream",
     "text": [
      "/var/folders/2y/gl9r9z_j2l5gh61r105__rmm0000gn/T/ipykernel_1949/4087017451.py:6: IntegrationWarning: The maximum number of subdivisions (50) has been achieved.\n",
      "  If increasing the limit yields no improvement it is advised to analyze \n",
      "  the integrand in order to determine the difficulties.  If the position of a \n",
      "  local difficulty can be determined (singularity, discontinuity) one will \n",
      "  probably gain from splitting up the interval and calling the integrator \n",
      "  on the subranges.  Perhaps a special-purpose integrator should be used.\n",
      "  fc = (1 / fsc) * 10 ** ( 0.4 * kpc * ( Xc - Xsc ) ) * ( integrate.quad(funcQ1, xcmin, xcmax)[0] / integrate.quad(funcQ2, xcmin, xcmax)[0] )\n"
     ]
    },
    {
     "name": "stdout",
     "output_type": "stream",
     "text": [
      "0.9987737614836388\n"
     ]
    }
   ],
   "source": [
    "funcQ1 = lambda x: standInterp(x) * contInterp(x) # phi_c (contInterp)\n",
    "funcQ2 = lambda x: continuum() * contInterp(x) # phi_c\n",
    "Q = (1 / fsc) * 10 ** ( 0.4 * kpc * ( Xc - Xsc ) ) * ( integrate.quad(funcQ1, xcmin, xcmax, epsabs=1.49e-11)[0] / integrate.quad(funcQ2, xcmin, xcmax, epsabs=1.49e-11)[0] )\n",
    "print(Q)"
   ]
  },
  {
   "cell_type": "code",
   "execution_count": 21,
   "id": "8d82c4df",
   "metadata": {},
   "outputs": [
    {
     "name": "stdout",
     "output_type": "stream",
     "text": [
      "5.741249949432777e-13\n"
     ]
    }
   ],
   "source": [
    "funcP = lambda x: standInterp(x) * lineInterp(x) # phi_l\n",
    "P = (1 / fsl) * 10 ** ( 0.4 * kpl * ( Xl - Xsl ) ) * integrate.quad( funcP, xlmin, xlmax, epsabs=1.49e-11 )[0]\n",
    "print(P)"
   ]
  },
  {
   "cell_type": "code",
   "execution_count": 22,
   "id": "c81d8e56",
   "metadata": {},
   "outputs": [
    {
     "name": "stdout",
     "output_type": "stream",
     "text": [
      "68.13093500351631\n"
     ]
    }
   ],
   "source": [
    "fwhm = 1\n",
    "g = fwhm / (2 * np.sqrt(np.log(2)))\n",
    "cte = 1. / ( np.sqrt( np.pi ) * g )\n",
    "waveobs = obsWavelength(6563., vsys)\n",
    "funcR = lambda x: lineInterp(x) * np.exp(-(( x - waveobs )/g )**2)\n",
    "intR = integrate.quad(funcR, xlmin, xlmax)\n",
    "R = intR[0] * cte\n",
    "print(R)"
   ]
  },
  {
   "cell_type": "code",
   "execution_count": 23,
   "id": "777f077d",
   "metadata": {},
   "outputs": [
    {
     "name": "stdout",
     "output_type": "stream",
     "text": [
      "Fl = 0.01467762037829642 * ( (8.786305322607113e-14, 2.1781802926938158e-14) - ( (I(line) -  67.9 ) / (I(continuum) -  123.8 ) ) * (  1.4370746836862178e-13 ) ) \n",
      "None\n"
     ]
    }
   ],
   "source": [
    "Fl = print('Fl =', ( 1 / R ), '* (', A, '- ( (I(line) - ', skyl,') / (I(continuum) - ', skyc, ') ) * ( ',texpc*P/(texpl*Q), ') ) ')\n",
    "print(Fl)"
   ]
  },
  {
   "cell_type": "code",
   "execution_count": null,
   "id": "8b15b91b",
   "metadata": {},
   "outputs": [],
   "source": []
  }
 ],
 "metadata": {
  "kernelspec": {
   "display_name": "Python 3 (ipykernel)",
   "language": "python",
   "name": "python3"
  },
  "language_info": {
   "codemirror_mode": {
    "name": "ipython",
    "version": 3
   },
   "file_extension": ".py",
   "mimetype": "text/x-python",
   "name": "python",
   "nbconvert_exporter": "python",
   "pygments_lexer": "ipython3",
   "version": "3.9.7"
  }
 },
 "nbformat": 4,
 "nbformat_minor": 5
}
